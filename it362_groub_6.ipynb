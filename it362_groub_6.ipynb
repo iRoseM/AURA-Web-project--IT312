{
  "nbformat": 4,
  "nbformat_minor": 0,
  "metadata": {
    "colab": {
      "provenance": [],
      "include_colab_link": true
    },
    "kernelspec": {
      "name": "python3",
      "display_name": "Python 3"
    },
    "language_info": {
      "name": "python"
    }
  },
  "cells": [
    {
      "cell_type": "markdown",
      "metadata": {
        "id": "view-in-github",
        "colab_type": "text"
      },
      "source": [
        "<a href=\"https://colab.research.google.com/github/iRoseM/AURA-Web-project--IT312/blob/main/it362_groub_6.ipynb\" target=\"_parent\"><img src=\"https://colab.research.google.com/assets/colab-badge.svg\" alt=\"Open In Colab\"/></a>"
      ]
    },
    {
      "cell_type": "markdown",
      "source": [
        "# **Analyzing Freelancing Trends and Sustainability**\n",
        "\n",
        "## **1. Introduction:**\n",
        "Freelancing has become a popular career path due to its flexibility and the opportunities it provides across various fields. However, several questions arise regarding its sustainability, income stability, and the demographics of those engaging in this type of work. Understanding freelancing trends can help clarify whether freelancing is a sustainable career choice, identify income patterns, and determine the demographics of freelancers, such as  examining whether freelancing is a sustainable career path, identifying countries with the highest concentration of skilled freelancers and more.\n"
      ],
      "metadata": {
        "id": "fSA68l9SE4SU"
      }
    },
    {
      "cell_type": "markdown",
      "source": [
        "## **2.\tData Sources:**\n"
      ],
      "metadata": {
        "id": "n4aUAUlA7aDp"
      }
    },
    {
      "cell_type": "markdown",
      "source": [
        "**Primary dataset** is sourced through using web scraping method on [freelancer.com](https://www.freelancer.com) website. Web scraping is a technique for extracting unstructured data from websites, enabling efficient large-scale data collection.\n",
        "\n",
        "The main tool used for scraping is BeautifulSoup."
      ],
      "metadata": {
        "id": "DO-Mk3pZTvO1"
      }
    },
    {
      "cell_type": "markdown",
      "source": [
        "### - Printing HTML structure to easily navigate the code"
      ],
      "metadata": {
        "id": "WwTEIDSNVoyI"
      }
    },
    {
      "cell_type": "code",
      "source": [
        "import requests\n",
        "from bs4 import BeautifulSoup\n",
        "import pandas as pd\n",
        "import numpy as np\n",
        "#import time\n",
        "# Collect and parse first page\n",
        "response = requests.get('https://www.freelancer.com/freelancers/')\n",
        "print(response.status_code)\n",
        "\n",
        "soup = BeautifulSoup(response.text, 'html.parser')\n",
        "print (soup.prettify())\n",
        "\n"
      ],
      "metadata": {
        "colab": {
          "base_uri": "https://localhost:8080/"
        },
        "id": "pjZ8szDwOHQR",
        "outputId": "f6b901dd-53d6-42e6-e3e8-cdf3f07fa221"
      },
      "execution_count": 25,
      "outputs": [
        {
          "output_type": "stream",
          "name": "stdout",
          "text": [
            "429\n",
            "<!DOCTYPE html>\n",
            "<html lang=\"en\">\n",
            " <head>\n",
            "  <meta charset=\"utf-8\"/>\n",
            "  <meta content=\"width=device-width, initial-scale=1.0\" name=\"viewport\"/>\n",
            "  <title>\n",
            "   Browser Check\n",
            "  </title>\n",
            "  <link href=\"https://fonts.googleapis.com/css2?family=Roboto:wght@400;700&amp;display=swap\" rel=\"stylesheet\"/>\n",
            "  <style>\n",
            "   body, html {\n",
            "        height: 100%;\n",
            "        margin: 0;\n",
            "        font-family: 'Roboto', sans-serif;\n",
            "        -webkit-font-smoothing: antialiased;\n",
            "        line-height: 1.5;\n",
            "        display: flex;\n",
            "        justify-content: center;\n",
            "        align-items: center;\n",
            "        text-align: center;\n",
            "    }\n",
            "    .container {\n",
            "        width: 1200px;\n",
            "        padding: 20px;\n",
            "    }\n",
            "    .logo img {\n",
            "        width: 200px;\n",
            "        height: auto;\n",
            "    }\n",
            "    .message {\n",
            "        margin-top: 20px;\n",
            "    }\n",
            "    .message .title {\n",
            "      font-weight: 700;\n",
            "      font-size: 24px;\n",
            "      margin-bottom: 40px;\n",
            "    }\n",
            "    .footer {\n",
            "      margin-top: 50px;\n",
            "      margin-bottom: 40px;\n",
            "    }\n",
            "  </style>\n",
            "  <script>\n",
            "   function onReCaptchaLoad() {\n",
            "  grecaptcha.execute();\n",
            "}\n",
            "function onReCaptchaSuccess(token) {\n",
            "  document.getElementById('unblock-form').submit();\n",
            "}\n",
            "document.addEventListener('DOMContentLoaded', function() {\n",
            "  // Get the current location\n",
            "  var location = window.location;\n",
            "  var url = new URL(location);\n",
            "  var queryParams = url.searchParams;\n",
            "\n",
            "  // Check if the 'force-blacklist' parameter is present and remove it\n",
            "  if (queryParams.has('force-blacklist')) {\n",
            "    queryParams.delete('force-blacklist');\n",
            "\n",
            "    // Rebuild the URL without the 'force-blacklist' parameter\n",
            "    var newUrl = location.protocol + \"//\" + location.host + location.pathname + queryParams.toString();\n",
            "\n",
            "    // Use HTML5 history API to update the URL without reloading the page\n",
            "    history.replaceState(null, '', newUrl);\n",
            "  }\n",
            "});\n",
            "  </script>\n",
            "  <script async=\"\" defer=\"\" src=\"https://www.google.com/recaptcha/api.js?onload=onReCaptchaLoad\">\n",
            "  </script>\n",
            " </head>\n",
            " <body>\n",
            "  <div class=\"container\">\n",
            "   <div class=\"logo\">\n",
            "    <img alt=\"Freelancer Logo\" src=\"https://www.f-cdn.com/assets/main/en/assets/freelancer-logo.svg\"/>\n",
            "   </div>\n",
            "   <div class=\"message\">\n",
            "    <h1 class=\"title\">\n",
            "     Checking your browser before accessing\n",
            "     <span id=\"site-name\">\n",
            "     </span>\n",
            "    </h1>\n",
            "    <script>\n",
            "     document.getElementById('site-name').textContent = window.location.hostname;\n",
            "    </script>\n",
            "    This process is automatic. Your browser will redirect to your requested content shortly.\n",
            "    <br/>\n",
            "    Please allow up to 5 seconds...\n",
            "   </div>\n",
            "   <form action=\"/unblock\" id=\"unblock-form\" method=\"POST\">\n",
            "    <div class=\"g-recaptcha\" data-callback=\"onReCaptchaSuccess\" data-sitekey=\"6Lc2glUoAAAAAECTCgVbTQVRBNz3xrIwTx4tOhsN\" data-size=\"invisible\">\n",
            "    </div>\n",
            "   </form>\n",
            "   <div class=\"footer\">\n",
            "    If you are having problems accessing the site, please ensure nothing is blocking JavaScript from working on your computer.\n",
            "    <br/>\n",
            "    ID: 28b8a3ccdadbf949c3ff0b7369d9e3ac\n",
            "   </div>\n",
            "  </div>\n",
            " </body>\n",
            "</html>\n",
            "\n"
          ]
        }
      ]
    },
    {
      "cell_type": "markdown",
      "source": [
        "#### - Data retrieval:\n",
        "We extracted data by scraping the website's HTML elements, targeting specific tags to retrieve the relevant information."
      ],
      "metadata": {
        "id": "PXdOMrSsV8yh"
      }
    },
    {
      "cell_type": "code",
      "source": [
        "# 1. Importing libraries\n",
        "import requests  # To send HTTP requests and retrieve web page content.\n",
        "from bs4 import BeautifulSoup  # Parses HTML and extracting data efficiently.\n",
        "import pandas as pd  # Manipulate the data using DataFrames for easy analysis\n",
        "import time  # Adding a delay between requests to avoid overloading the server\n",
        "\n",
        "# 2. Determine number of objects wanted\n",
        "num_pages = 100  # Total number of pages to scrape\n",
        "base_url = \"https://www.freelancer.com/freelancers/\"\n",
        "\n",
        "headers = {\n",
        "    \"User-Agent\": \"Mozilla/5.0 (Windows NT 10.0; Win64; x64) AppleWebKit/537.36 (KHTML, like Gecko) Chrome/91.0.4472.124 Safari/537.36\"\n",
        "}\n",
        "\n",
        "data = []\n",
        "\n",
        "# 3. Retrieve data from the HTML elements on the website\n",
        "for page in range(1, num_pages + 1):\n",
        "    url = f\"{base_url}{page}\"\n",
        "    response = requests.get(url, headers=headers)\n",
        "\n",
        "    if response.status_code == 200:\n",
        "        soup = BeautifulSoup(response.text, 'html.parser')\n",
        "        freelancers = soup.find_all('div', class_='directory-freelancer-item-container')\n",
        "\n",
        "        # For each freelancer on the page, extract the relevant data\n",
        "        for freelancer in freelancers:\n",
        "            # Extract username\n",
        "            name = freelancer.find('a', class_='find-freelancer-username')\n",
        "            name = name.text.strip() if name else 'N/A'\n",
        "\n",
        "            # Extract hourly rate\n",
        "            hourly_rate = freelancer.find('span', class_='user-hourly-rate freelancer-hourlyrate')\n",
        "            hourly_rate = hourly_rate.text.strip() if hourly_rate else 'N/A'\n",
        "\n",
        "            # Extract skills\n",
        "            skills = [skill.text.strip() for skill in freelancer.find_all('a', style='color:black;')]\n",
        "            skills = ', '.join(skills) if skills else 'N/A'\n",
        "\n",
        "            # Extract location\n",
        "            location = freelancer.find('div', class_='user-location')\n",
        "            location = location.text.strip() if location else 'N/A'\n",
        "\n",
        "            # Extract bio\n",
        "            bio = freelancer.find('div', class_='bio cleanProfile')\n",
        "            bio = bio.text.strip() if bio else 'N/A'\n",
        "\n",
        "            # Extract Rating\n",
        "            rating_tag = freelancer.find('span', class_='Rating Rating--labeled')\n",
        "            rating = rating_tag.get('data-star_rating', 'N/A') if rating_tag else 'N/A'\n",
        "\n",
        "            # Extract earnings\n",
        "            earnings = freelancer.find('div', class_='Earnings')\n",
        "            earnings = earnings.text.strip() if earnings else 'N/A'\n",
        "\n",
        "            # Extract Reviews\n",
        "            reviews_tag = freelancer.find('a', class_='directory-freelancer-rating-mobile')\n",
        "            if reviews_tag:\n",
        "                reviews_text = reviews_tag.text.strip()\n",
        "                reviews = reviews_text.split(' ')[0] if 'reviews' in reviews_text else 'N/A'\n",
        "            else:\n",
        "                reviews = 'N/A'\n",
        "\n",
        "            # Append the extracted data to the list\n",
        "            data.append({\n",
        "                'Freelancer Name': name,\n",
        "                'Hourly Rate': hourly_rate,\n",
        "                'Skills': skills,\n",
        "                'Location': location,\n",
        "                'Rating': rating,\n",
        "                'Reviews': reviews,\n",
        "                'Total Earnings': earnings,\n",
        "                'Bio': bio\n",
        "            })\n",
        "\n",
        "    else:\n",
        "        print(f\"Failed to retrieve page {page}, status code: {response.status_code}\")\n",
        "\n",
        "    # Adding a delay between requests to avoid overloading the server and getting inconsistent data\n",
        "    time.sleep(1)\n",
        "\n",
        "# 4. Saving data into a CSV file\n",
        "df = pd.DataFrame(data)\n",
        "df.to_csv('freelancer_data.csv', index=False)\n",
        "\n",
        "# Print a sample of the DataFrame to check the results\n",
        "print(df.head())"
      ],
      "metadata": {
        "id": "ixMOg9Eo_gFm",
        "colab": {
          "base_uri": "https://localhost:8080/"
        },
        "outputId": "8462819a-e68c-4f5f-d778-54705f71a6ac"
      },
      "execution_count": 26,
      "outputs": [
        {
          "output_type": "stream",
          "name": "stdout",
          "text": [
            "   Freelancer Name       Hourly Rate  \\\n",
            "0         hirujiyu  $15 USD per hour   \n",
            "1       mikehurley  $15 USD per hour   \n",
            "2  weblinkbuilding   $6 USD per hour   \n",
            "3       Ibrahim185  $20 USD per hour   \n",
            "4        ITYPETech  $35 USD per hour   \n",
            "\n",
            "                                              Skills    Location Rating  \\\n",
            "0  Android, Mobile App Development, iPhone, iPad,...       India    5.0   \n",
            "1  SEO, Link Building, Google Adwords, WordPress,...       India    4.9   \n",
            "2  SEO, Internet Marketing, Link Building, Market...       India    4.9   \n",
            "3  Data Entry, Excel, Web Search, Data Processing...  Bangladesh    5.0   \n",
            "4  Graphic Design, Logo Design, Photoshop, Brochu...       India    5.0   \n",
            "\n",
            "  Reviews Total Earnings                                                Bio  \n",
            "0     786           10.0  At DaydreamSoft Infotech LLP, we excel in tran...  \n",
            "1    6958           10.0  6800 ⭐⭐⭐⭐⭐+ Reviews,\\n\\n2000+ satisfied client...  \n",
            "2    3362           10.0  White Hat SEO | Social Media Marketing | Googl...  \n",
            "3    1385            9.2  With well over a decade-worth of experience, I...  \n",
            "4    3282           10.0  Hello! My name is Hitesh,\\n\\nAn award-winning ...  \n"
          ]
        }
      ]
    },
    {
      "cell_type": "markdown",
      "source": [
        "### **Dataset overview**\n",
        "This section summarizes the dataset, and introduce some basic information about our dataset, such as its size, head, and null values, data types."
      ],
      "metadata": {
        "id": "ApEibIbMAnwv"
      }
    },
    {
      "cell_type": "markdown",
      "source": [
        "#### - Dataset Size:\n",
        "Our dataset have 700 rows and 6 columns, where each row in the dataset represents a freelancer experience, with columns detailing their relevant characteristics."
      ],
      "metadata": {
        "id": "Chy9nNimcUsx"
      }
    },
    {
      "cell_type": "code",
      "source": [
        "# number of rows and columns\n",
        "df.shape"
      ],
      "metadata": {
        "id": "zOkc_kgTAwsw",
        "colab": {
          "base_uri": "https://localhost:8080/"
        },
        "outputId": "aff85feb-14d3-49dc-fabc-d0fa2b43e11d"
      },
      "execution_count": 27,
      "outputs": [
        {
          "output_type": "execute_result",
          "data": {
            "text/plain": [
              "(1000, 8)"
            ]
          },
          "metadata": {},
          "execution_count": 27
        }
      ]
    },
    {
      "cell_type": "markdown",
      "source": [
        "#### - Dataset general information:\n",
        "\n"
      ],
      "metadata": {
        "id": "dv8lw4d5d3k_"
      }
    },
    {
      "cell_type": "code",
      "source": [
        "# print main dataset info\n",
        "print(df.info())"
      ],
      "metadata": {
        "colab": {
          "base_uri": "https://localhost:8080/"
        },
        "id": "qDvWYrAwcFoU",
        "outputId": "7ba51b1f-3583-4900-ae46-10e1a449274f"
      },
      "execution_count": 28,
      "outputs": [
        {
          "output_type": "stream",
          "name": "stdout",
          "text": [
            "<class 'pandas.core.frame.DataFrame'>\n",
            "RangeIndex: 1000 entries, 0 to 999\n",
            "Data columns (total 8 columns):\n",
            " #   Column           Non-Null Count  Dtype \n",
            "---  ------           --------------  ----- \n",
            " 0   Freelancer Name  1000 non-null   object\n",
            " 1   Hourly Rate      1000 non-null   object\n",
            " 2   Skills           1000 non-null   object\n",
            " 3   Location         1000 non-null   object\n",
            " 4   Rating           1000 non-null   object\n",
            " 5   Reviews          1000 non-null   object\n",
            " 6   Total Earnings   1000 non-null   object\n",
            " 7   Bio              1000 non-null   object\n",
            "dtypes: object(8)\n",
            "memory usage: 62.6+ KB\n",
            "None\n"
          ]
        }
      ]
    },
    {
      "cell_type": "markdown",
      "source": [
        "| Column Name      | Description                                   | Data Type | Possible Values                                  |\n",
        "|------------------|-----------------------------------------------|-----------|--------------------------------------------------|\n",
        "| Freelancer Name  | The name of the freelancer, used to personalize their profile on the platform.                        | Object    | String values representing freelancer names      |\n",
        "| Hourly Rate      | The amount a freelancer charges per hour of work.             | Object    | String (e.g., \"$25\", \"N/A\")                      |\n",
        "| Skills           |  A list of specific abilities, expertise, or proficiencies that a freelancer possesses (e.g., graphic designer, video editor.. etc). | Object    | Comma-separated string of skills or \"N/A\"        |\n",
        "| Location         | The freelancer's country of residence or work (e.g., Lebanon, UK.. etc).                    | Object    | String (e.g., \"New York\", \"N/A\")                 |\n",
        "| Rating          | The average rating given to the freelancer based on client reviews and feedback.             | Object    |String (e.g., \"4.5\", \"N/A\")                |\n",
        "| Reviews          | The number of feedback received from clients reflecting a freelancer's performance and quality of work.             | Object    | String (e.g., \"5 reviews\", \"N/A\")                |\n",
        "| Total Earnings              | The Earnings Score represents a freelancer’s overall earnings from the projects and contests they have successfully completed on the site.               | Object    | String (e.g., \"7.8\", \"N/A\") |\n",
        "| Bio              | A brief description written by the freelancer outlining his/her background, experience, and professional journey.               | Object    | String (e.g., \"Experienced software developer\", \"N/A\") |"
      ],
      "metadata": {
        "id": "YsnXDmjJh2lc"
      }
    },
    {
      "cell_type": "markdown",
      "source": [
        " **As shown in code**, all columns are of the \"object\" data type, which means that the column contains mixed data types. This includes freelancer names, hourly rates, skills, locations, reviews, and bios."
      ],
      "metadata": {
        "id": "plVvg7h4mM0l"
      }
    },
    {
      "cell_type": "markdown",
      "source": [
        "#### - Number of missing values:\n",
        "As shown below, number of nulls is 0 for all attributes, which means that we have no null or missing data for any of the columns. As a result, there is no need to fill or drop any of the columns or the rows."
      ],
      "metadata": {
        "id": "uZNq3WrBfGbk"
      }
    },
    {
      "cell_type": "code",
      "source": [
        "# Number of missing value in the dataset\n",
        "df.isnull().sum()"
      ],
      "metadata": {
        "colab": {
          "base_uri": "https://localhost:8080/",
          "height": 334
        },
        "id": "uNfDiYAIe_bY",
        "outputId": "b7b05f10-cb34-4459-fe47-19f731cd9a31"
      },
      "execution_count": 29,
      "outputs": [
        {
          "output_type": "execute_result",
          "data": {
            "text/plain": [
              "Freelancer Name    0\n",
              "Hourly Rate        0\n",
              "Skills             0\n",
              "Location           0\n",
              "Rating             0\n",
              "Reviews            0\n",
              "Total Earnings     0\n",
              "Bio                0\n",
              "dtype: int64"
            ],
            "text/html": [
              "<div>\n",
              "<style scoped>\n",
              "    .dataframe tbody tr th:only-of-type {\n",
              "        vertical-align: middle;\n",
              "    }\n",
              "\n",
              "    .dataframe tbody tr th {\n",
              "        vertical-align: top;\n",
              "    }\n",
              "\n",
              "    .dataframe thead th {\n",
              "        text-align: right;\n",
              "    }\n",
              "</style>\n",
              "<table border=\"1\" class=\"dataframe\">\n",
              "  <thead>\n",
              "    <tr style=\"text-align: right;\">\n",
              "      <th></th>\n",
              "      <th>0</th>\n",
              "    </tr>\n",
              "  </thead>\n",
              "  <tbody>\n",
              "    <tr>\n",
              "      <th>Freelancer Name</th>\n",
              "      <td>0</td>\n",
              "    </tr>\n",
              "    <tr>\n",
              "      <th>Hourly Rate</th>\n",
              "      <td>0</td>\n",
              "    </tr>\n",
              "    <tr>\n",
              "      <th>Skills</th>\n",
              "      <td>0</td>\n",
              "    </tr>\n",
              "    <tr>\n",
              "      <th>Location</th>\n",
              "      <td>0</td>\n",
              "    </tr>\n",
              "    <tr>\n",
              "      <th>Rating</th>\n",
              "      <td>0</td>\n",
              "    </tr>\n",
              "    <tr>\n",
              "      <th>Reviews</th>\n",
              "      <td>0</td>\n",
              "    </tr>\n",
              "    <tr>\n",
              "      <th>Total Earnings</th>\n",
              "      <td>0</td>\n",
              "    </tr>\n",
              "    <tr>\n",
              "      <th>Bio</th>\n",
              "      <td>0</td>\n",
              "    </tr>\n",
              "  </tbody>\n",
              "</table>\n",
              "</div><br><label><b>dtype:</b> int64</label>"
            ]
          },
          "metadata": {},
          "execution_count": 29
        }
      ]
    },
    {
      "cell_type": "markdown",
      "source": [
        "#### - Number of duplicates:"
      ],
      "metadata": {
        "id": "IkLTXH6vfsdK"
      }
    },
    {
      "cell_type": "code",
      "source": [
        "# Number of duplicated rows\n",
        "print(\"Total number of duplicated rows: \" + str(sum(df.duplicated())))"
      ],
      "metadata": {
        "colab": {
          "base_uri": "https://localhost:8080/"
        },
        "id": "R7GGkvrFftnr",
        "outputId": "ba380466-e1fb-455b-dad0-bcc8d6ad4ccd"
      },
      "execution_count": 30,
      "outputs": [
        {
          "output_type": "stream",
          "name": "stdout",
          "text": [
            "Total number of duplicated rows: 3\n"
          ]
        }
      ]
    },
    {
      "cell_type": "code",
      "source": [
        "df[df['Freelancer Name'].duplicated(keep=False)]\n"
      ],
      "metadata": {
        "colab": {
          "base_uri": "https://localhost:8080/",
          "height": 237
        },
        "id": "qz4A4kL-7hu6",
        "outputId": "d20c91fd-344a-4da1-eb35-524da739a234"
      },
      "execution_count": 31,
      "outputs": [
        {
          "output_type": "execute_result",
          "data": {
            "text/plain": [
              "    Freelancer Name       Hourly Rate  \\\n",
              "598       zikoblade  $70 USD per hour   \n",
              "599    Jakegirald92  $10 USD per hour   \n",
              "600       zikoblade  $70 USD per hour   \n",
              "601    Jakegirald92  $10 USD per hour   \n",
              "759  abrcreative786   $5 USD per hour   \n",
              "760  abrcreative786   $5 USD per hour   \n",
              "\n",
              "                                                Skills              Location  \\\n",
              "598  Graphic Design, Photoshop, Logo Design, Photos...  United Arab Emirates   \n",
              "599  Illustration, Caricature & Cartoons, Graphic D...              Colombia   \n",
              "600  Graphic Design, Photoshop, Logo Design, Photos...  United Arab Emirates   \n",
              "601  Illustration, Caricature & Cartoons, Graphic D...              Colombia   \n",
              "759  Graphic Design, Photoshop, Logo Design, Illust...              Pakistan   \n",
              "760  Graphic Design, Photoshop, Logo Design, Illust...              Pakistan   \n",
              "\n",
              "    Rating Reviews Total Earnings  \\\n",
              "598    5.0     610            8.5   \n",
              "599    5.0      82            6.9   \n",
              "600    5.0     610            8.5   \n",
              "601    5.0      82            6.9   \n",
              "759    4.8     606            7.3   \n",
              "760    4.8     606            7.3   \n",
              "\n",
              "                                                   Bio  \n",
              "598  I'm a Freelancer top-rated and highly-skilled ...  \n",
              "599  Traditional and digital illustrator with more ...  \n",
              "600  I'm a Freelancer top-rated and highly-skilled ...  \n",
              "601  Traditional and digital illustrator with more ...  \n",
              "759  Looking for top-notch graphic design services ...  \n",
              "760  Looking for top-notch graphic design services ...  "
            ],
            "text/html": [
              "\n",
              "  <div id=\"df-b8b1bc30-bedf-469b-bb7b-4199e9811d42\" class=\"colab-df-container\">\n",
              "    <div>\n",
              "<style scoped>\n",
              "    .dataframe tbody tr th:only-of-type {\n",
              "        vertical-align: middle;\n",
              "    }\n",
              "\n",
              "    .dataframe tbody tr th {\n",
              "        vertical-align: top;\n",
              "    }\n",
              "\n",
              "    .dataframe thead th {\n",
              "        text-align: right;\n",
              "    }\n",
              "</style>\n",
              "<table border=\"1\" class=\"dataframe\">\n",
              "  <thead>\n",
              "    <tr style=\"text-align: right;\">\n",
              "      <th></th>\n",
              "      <th>Freelancer Name</th>\n",
              "      <th>Hourly Rate</th>\n",
              "      <th>Skills</th>\n",
              "      <th>Location</th>\n",
              "      <th>Rating</th>\n",
              "      <th>Reviews</th>\n",
              "      <th>Total Earnings</th>\n",
              "      <th>Bio</th>\n",
              "    </tr>\n",
              "  </thead>\n",
              "  <tbody>\n",
              "    <tr>\n",
              "      <th>598</th>\n",
              "      <td>zikoblade</td>\n",
              "      <td>$70 USD per hour</td>\n",
              "      <td>Graphic Design, Photoshop, Logo Design, Photos...</td>\n",
              "      <td>United Arab Emirates</td>\n",
              "      <td>5.0</td>\n",
              "      <td>610</td>\n",
              "      <td>8.5</td>\n",
              "      <td>I'm a Freelancer top-rated and highly-skilled ...</td>\n",
              "    </tr>\n",
              "    <tr>\n",
              "      <th>599</th>\n",
              "      <td>Jakegirald92</td>\n",
              "      <td>$10 USD per hour</td>\n",
              "      <td>Illustration, Caricature &amp; Cartoons, Graphic D...</td>\n",
              "      <td>Colombia</td>\n",
              "      <td>5.0</td>\n",
              "      <td>82</td>\n",
              "      <td>6.9</td>\n",
              "      <td>Traditional and digital illustrator with more ...</td>\n",
              "    </tr>\n",
              "    <tr>\n",
              "      <th>600</th>\n",
              "      <td>zikoblade</td>\n",
              "      <td>$70 USD per hour</td>\n",
              "      <td>Graphic Design, Photoshop, Logo Design, Photos...</td>\n",
              "      <td>United Arab Emirates</td>\n",
              "      <td>5.0</td>\n",
              "      <td>610</td>\n",
              "      <td>8.5</td>\n",
              "      <td>I'm a Freelancer top-rated and highly-skilled ...</td>\n",
              "    </tr>\n",
              "    <tr>\n",
              "      <th>601</th>\n",
              "      <td>Jakegirald92</td>\n",
              "      <td>$10 USD per hour</td>\n",
              "      <td>Illustration, Caricature &amp; Cartoons, Graphic D...</td>\n",
              "      <td>Colombia</td>\n",
              "      <td>5.0</td>\n",
              "      <td>82</td>\n",
              "      <td>6.9</td>\n",
              "      <td>Traditional and digital illustrator with more ...</td>\n",
              "    </tr>\n",
              "    <tr>\n",
              "      <th>759</th>\n",
              "      <td>abrcreative786</td>\n",
              "      <td>$5 USD per hour</td>\n",
              "      <td>Graphic Design, Photoshop, Logo Design, Illust...</td>\n",
              "      <td>Pakistan</td>\n",
              "      <td>4.8</td>\n",
              "      <td>606</td>\n",
              "      <td>7.3</td>\n",
              "      <td>Looking for top-notch graphic design services ...</td>\n",
              "    </tr>\n",
              "    <tr>\n",
              "      <th>760</th>\n",
              "      <td>abrcreative786</td>\n",
              "      <td>$5 USD per hour</td>\n",
              "      <td>Graphic Design, Photoshop, Logo Design, Illust...</td>\n",
              "      <td>Pakistan</td>\n",
              "      <td>4.8</td>\n",
              "      <td>606</td>\n",
              "      <td>7.3</td>\n",
              "      <td>Looking for top-notch graphic design services ...</td>\n",
              "    </tr>\n",
              "  </tbody>\n",
              "</table>\n",
              "</div>\n",
              "    <div class=\"colab-df-buttons\">\n",
              "\n",
              "  <div class=\"colab-df-container\">\n",
              "    <button class=\"colab-df-convert\" onclick=\"convertToInteractive('df-b8b1bc30-bedf-469b-bb7b-4199e9811d42')\"\n",
              "            title=\"Convert this dataframe to an interactive table.\"\n",
              "            style=\"display:none;\">\n",
              "\n",
              "  <svg xmlns=\"http://www.w3.org/2000/svg\" height=\"24px\" viewBox=\"0 -960 960 960\">\n",
              "    <path d=\"M120-120v-720h720v720H120Zm60-500h600v-160H180v160Zm220 220h160v-160H400v160Zm0 220h160v-160H400v160ZM180-400h160v-160H180v160Zm440 0h160v-160H620v160ZM180-180h160v-160H180v160Zm440 0h160v-160H620v160Z\"/>\n",
              "  </svg>\n",
              "    </button>\n",
              "\n",
              "  <style>\n",
              "    .colab-df-container {\n",
              "      display:flex;\n",
              "      gap: 12px;\n",
              "    }\n",
              "\n",
              "    .colab-df-convert {\n",
              "      background-color: #E8F0FE;\n",
              "      border: none;\n",
              "      border-radius: 50%;\n",
              "      cursor: pointer;\n",
              "      display: none;\n",
              "      fill: #1967D2;\n",
              "      height: 32px;\n",
              "      padding: 0 0 0 0;\n",
              "      width: 32px;\n",
              "    }\n",
              "\n",
              "    .colab-df-convert:hover {\n",
              "      background-color: #E2EBFA;\n",
              "      box-shadow: 0px 1px 2px rgba(60, 64, 67, 0.3), 0px 1px 3px 1px rgba(60, 64, 67, 0.15);\n",
              "      fill: #174EA6;\n",
              "    }\n",
              "\n",
              "    .colab-df-buttons div {\n",
              "      margin-bottom: 4px;\n",
              "    }\n",
              "\n",
              "    [theme=dark] .colab-df-convert {\n",
              "      background-color: #3B4455;\n",
              "      fill: #D2E3FC;\n",
              "    }\n",
              "\n",
              "    [theme=dark] .colab-df-convert:hover {\n",
              "      background-color: #434B5C;\n",
              "      box-shadow: 0px 1px 3px 1px rgba(0, 0, 0, 0.15);\n",
              "      filter: drop-shadow(0px 1px 2px rgba(0, 0, 0, 0.3));\n",
              "      fill: #FFFFFF;\n",
              "    }\n",
              "  </style>\n",
              "\n",
              "    <script>\n",
              "      const buttonEl =\n",
              "        document.querySelector('#df-b8b1bc30-bedf-469b-bb7b-4199e9811d42 button.colab-df-convert');\n",
              "      buttonEl.style.display =\n",
              "        google.colab.kernel.accessAllowed ? 'block' : 'none';\n",
              "\n",
              "      async function convertToInteractive(key) {\n",
              "        const element = document.querySelector('#df-b8b1bc30-bedf-469b-bb7b-4199e9811d42');\n",
              "        const dataTable =\n",
              "          await google.colab.kernel.invokeFunction('convertToInteractive',\n",
              "                                                    [key], {});\n",
              "        if (!dataTable) return;\n",
              "\n",
              "        const docLinkHtml = 'Like what you see? Visit the ' +\n",
              "          '<a target=\"_blank\" href=https://colab.research.google.com/notebooks/data_table.ipynb>data table notebook</a>'\n",
              "          + ' to learn more about interactive tables.';\n",
              "        element.innerHTML = '';\n",
              "        dataTable['output_type'] = 'display_data';\n",
              "        await google.colab.output.renderOutput(dataTable, element);\n",
              "        const docLink = document.createElement('div');\n",
              "        docLink.innerHTML = docLinkHtml;\n",
              "        element.appendChild(docLink);\n",
              "      }\n",
              "    </script>\n",
              "  </div>\n",
              "\n",
              "\n",
              "<div id=\"df-1083c1db-8e94-4394-a2c3-b4adbde33277\">\n",
              "  <button class=\"colab-df-quickchart\" onclick=\"quickchart('df-1083c1db-8e94-4394-a2c3-b4adbde33277')\"\n",
              "            title=\"Suggest charts\"\n",
              "            style=\"display:none;\">\n",
              "\n",
              "<svg xmlns=\"http://www.w3.org/2000/svg\" height=\"24px\"viewBox=\"0 0 24 24\"\n",
              "     width=\"24px\">\n",
              "    <g>\n",
              "        <path d=\"M19 3H5c-1.1 0-2 .9-2 2v14c0 1.1.9 2 2 2h14c1.1 0 2-.9 2-2V5c0-1.1-.9-2-2-2zM9 17H7v-7h2v7zm4 0h-2V7h2v10zm4 0h-2v-4h2v4z\"/>\n",
              "    </g>\n",
              "</svg>\n",
              "  </button>\n",
              "\n",
              "<style>\n",
              "  .colab-df-quickchart {\n",
              "      --bg-color: #E8F0FE;\n",
              "      --fill-color: #1967D2;\n",
              "      --hover-bg-color: #E2EBFA;\n",
              "      --hover-fill-color: #174EA6;\n",
              "      --disabled-fill-color: #AAA;\n",
              "      --disabled-bg-color: #DDD;\n",
              "  }\n",
              "\n",
              "  [theme=dark] .colab-df-quickchart {\n",
              "      --bg-color: #3B4455;\n",
              "      --fill-color: #D2E3FC;\n",
              "      --hover-bg-color: #434B5C;\n",
              "      --hover-fill-color: #FFFFFF;\n",
              "      --disabled-bg-color: #3B4455;\n",
              "      --disabled-fill-color: #666;\n",
              "  }\n",
              "\n",
              "  .colab-df-quickchart {\n",
              "    background-color: var(--bg-color);\n",
              "    border: none;\n",
              "    border-radius: 50%;\n",
              "    cursor: pointer;\n",
              "    display: none;\n",
              "    fill: var(--fill-color);\n",
              "    height: 32px;\n",
              "    padding: 0;\n",
              "    width: 32px;\n",
              "  }\n",
              "\n",
              "  .colab-df-quickchart:hover {\n",
              "    background-color: var(--hover-bg-color);\n",
              "    box-shadow: 0 1px 2px rgba(60, 64, 67, 0.3), 0 1px 3px 1px rgba(60, 64, 67, 0.15);\n",
              "    fill: var(--button-hover-fill-color);\n",
              "  }\n",
              "\n",
              "  .colab-df-quickchart-complete:disabled,\n",
              "  .colab-df-quickchart-complete:disabled:hover {\n",
              "    background-color: var(--disabled-bg-color);\n",
              "    fill: var(--disabled-fill-color);\n",
              "    box-shadow: none;\n",
              "  }\n",
              "\n",
              "  .colab-df-spinner {\n",
              "    border: 2px solid var(--fill-color);\n",
              "    border-color: transparent;\n",
              "    border-bottom-color: var(--fill-color);\n",
              "    animation:\n",
              "      spin 1s steps(1) infinite;\n",
              "  }\n",
              "\n",
              "  @keyframes spin {\n",
              "    0% {\n",
              "      border-color: transparent;\n",
              "      border-bottom-color: var(--fill-color);\n",
              "      border-left-color: var(--fill-color);\n",
              "    }\n",
              "    20% {\n",
              "      border-color: transparent;\n",
              "      border-left-color: var(--fill-color);\n",
              "      border-top-color: var(--fill-color);\n",
              "    }\n",
              "    30% {\n",
              "      border-color: transparent;\n",
              "      border-left-color: var(--fill-color);\n",
              "      border-top-color: var(--fill-color);\n",
              "      border-right-color: var(--fill-color);\n",
              "    }\n",
              "    40% {\n",
              "      border-color: transparent;\n",
              "      border-right-color: var(--fill-color);\n",
              "      border-top-color: var(--fill-color);\n",
              "    }\n",
              "    60% {\n",
              "      border-color: transparent;\n",
              "      border-right-color: var(--fill-color);\n",
              "    }\n",
              "    80% {\n",
              "      border-color: transparent;\n",
              "      border-right-color: var(--fill-color);\n",
              "      border-bottom-color: var(--fill-color);\n",
              "    }\n",
              "    90% {\n",
              "      border-color: transparent;\n",
              "      border-bottom-color: var(--fill-color);\n",
              "    }\n",
              "  }\n",
              "</style>\n",
              "\n",
              "  <script>\n",
              "    async function quickchart(key) {\n",
              "      const quickchartButtonEl =\n",
              "        document.querySelector('#' + key + ' button');\n",
              "      quickchartButtonEl.disabled = true;  // To prevent multiple clicks.\n",
              "      quickchartButtonEl.classList.add('colab-df-spinner');\n",
              "      try {\n",
              "        const charts = await google.colab.kernel.invokeFunction(\n",
              "            'suggestCharts', [key], {});\n",
              "      } catch (error) {\n",
              "        console.error('Error during call to suggestCharts:', error);\n",
              "      }\n",
              "      quickchartButtonEl.classList.remove('colab-df-spinner');\n",
              "      quickchartButtonEl.classList.add('colab-df-quickchart-complete');\n",
              "    }\n",
              "    (() => {\n",
              "      let quickchartButtonEl =\n",
              "        document.querySelector('#df-1083c1db-8e94-4394-a2c3-b4adbde33277 button');\n",
              "      quickchartButtonEl.style.display =\n",
              "        google.colab.kernel.accessAllowed ? 'block' : 'none';\n",
              "    })();\n",
              "  </script>\n",
              "</div>\n",
              "\n",
              "    </div>\n",
              "  </div>\n"
            ],
            "application/vnd.google.colaboratory.intrinsic+json": {
              "type": "dataframe",
              "summary": "{\n  \"name\": \"df[df['Freelancer Name']\",\n  \"rows\": 6,\n  \"fields\": [\n    {\n      \"column\": \"Freelancer Name\",\n      \"properties\": {\n        \"dtype\": \"string\",\n        \"num_unique_values\": 3,\n        \"samples\": [\n          \"zikoblade\",\n          \"Jakegirald92\",\n          \"abrcreative786\"\n        ],\n        \"semantic_type\": \"\",\n        \"description\": \"\"\n      }\n    },\n    {\n      \"column\": \"Hourly Rate\",\n      \"properties\": {\n        \"dtype\": \"string\",\n        \"num_unique_values\": 3,\n        \"samples\": [\n          \"$70 USD per hour\",\n          \"$10 USD per hour\",\n          \"$5 USD per hour\"\n        ],\n        \"semantic_type\": \"\",\n        \"description\": \"\"\n      }\n    },\n    {\n      \"column\": \"Skills\",\n      \"properties\": {\n        \"dtype\": \"string\",\n        \"num_unique_values\": 3,\n        \"samples\": [\n          \"Graphic Design, Photoshop, Logo Design, Photoshop Design, T-Shirts\",\n          \"Illustration, Caricature & Cartoons, Graphic Design, Illustrator, Book Artist\",\n          \"Graphic Design, Photoshop, Logo Design, Illustrator, Photoshop Design\"\n        ],\n        \"semantic_type\": \"\",\n        \"description\": \"\"\n      }\n    },\n    {\n      \"column\": \"Location\",\n      \"properties\": {\n        \"dtype\": \"string\",\n        \"num_unique_values\": 3,\n        \"samples\": [\n          \"United Arab Emirates\",\n          \"Colombia\",\n          \"Pakistan\"\n        ],\n        \"semantic_type\": \"\",\n        \"description\": \"\"\n      }\n    },\n    {\n      \"column\": \"Rating\",\n      \"properties\": {\n        \"dtype\": \"category\",\n        \"num_unique_values\": 2,\n        \"samples\": [\n          \"4.8\",\n          \"5.0\"\n        ],\n        \"semantic_type\": \"\",\n        \"description\": \"\"\n      }\n    },\n    {\n      \"column\": \"Reviews\",\n      \"properties\": {\n        \"dtype\": \"string\",\n        \"num_unique_values\": 3,\n        \"samples\": [\n          \"610\",\n          \"82\"\n        ],\n        \"semantic_type\": \"\",\n        \"description\": \"\"\n      }\n    },\n    {\n      \"column\": \"Total Earnings\",\n      \"properties\": {\n        \"dtype\": \"string\",\n        \"num_unique_values\": 3,\n        \"samples\": [\n          \"8.5\",\n          \"6.9\"\n        ],\n        \"semantic_type\": \"\",\n        \"description\": \"\"\n      }\n    },\n    {\n      \"column\": \"Bio\",\n      \"properties\": {\n        \"dtype\": \"string\",\n        \"num_unique_values\": 3,\n        \"samples\": [\n          \"I'm a Freelancer top-rated and highly-skilled Web/App Designer with a wide range of expertise in UI and UX Design. I have over a decade of experience in creating web, mobile, and tablet user interfaces, and experiences from both, creative and analytical sides. I can plan, budget, and manage an entire site or app creation process from start to finish.\\n\\nI\\u2019ve been working as a freelancer for almost 11+ years and more than 5 years for many different well-known digital agencies, some of them being in charge of their creative departments.\\n\\nI'm an expert on using a wide variety of design programs like:\\n \\n- Figma\\n- Adobe XD\\n- Adobe Photoshop\\n- Adobe Illustrator\\n- Adobe Indesign\\n- Zeplin\\n- Balsamiq\\n- Wireframe. cc\\n- UXPin\\n- Protopie\\n\\nI encourage you to work closely with me on your next successful project by taking advantage of my skills via Freelancer.com.\\n\\nThanks for your time less\",\n          \"Traditional and digital illustrator with more than seven years of experience and with a very high level in quality and realism, my art has been displayed in national geographic articles and the Smithsonian museum, expert on acrylic paints, graphite, colored pencils, these techniques and mediums are use for: book illustrations, wildlife and prehistoric life recontrauction illustrations, graphic novels, comics, manga, anime, portraits, etc. Also combining both traditional and digital art to achieve very unique and high level results.\\n\\nilustrador tradicional y digital con mas de siete a\\u00f1os de experiencia y con un nivel muy alto en calidad y realismo, mis trabajos han sido expuestos en la national geographic y el museo Smithsoniano, soy experto en pintura acr\\u00edlica, grafito (l\\u00e1piz), l\\u00e1pices de colores, estas t\\u00e9cnicas y medios son empleados en: ilustraci\\u00f3n para libros, ilustraciones sobre naturaleza y vida animal, novelas graficas, comics , manga, anime, retratos, etc. Tambi\\u00e9n combino t\\u00e9cnicas tradicionales con digitales para lograr resultados bastante \\u00fanicos. less\"\n        ],\n        \"semantic_type\": \"\",\n        \"description\": \"\"\n      }\n    }\n  ]\n}"
            }
          },
          "metadata": {},
          "execution_count": 31
        }
      ]
    },
    {
      "cell_type": "markdown",
      "source": [
        "As shown in above output, there are 10 duplicated rows. After reviewing the duplicates, we found that the 'Freelancer Name' which represents the unique username, was repeated. Therefore, we’ve decided to drop the duplicate rows to ensure data consistency, as having duplicate primary keys could lead to issues with data integrity and the accurate identification of users."
      ],
      "metadata": {
        "id": "-P28pEJZ3KlR"
      }
    },
    {
      "cell_type": "code",
      "source": [
        "df.drop_duplicates(subset=['Freelancer Name'], keep='first', inplace=True)\n",
        "df[df['Freelancer Name'].duplicated(keep=False)]\n",
        "sum(df.duplicated())"
      ],
      "metadata": {
        "colab": {
          "base_uri": "https://localhost:8080/"
        },
        "id": "0lQ7hIF7uy-0",
        "outputId": "bdada383-e11f-49b9-ff71-eb46986842fb"
      },
      "execution_count": 32,
      "outputs": [
        {
          "output_type": "execute_result",
          "data": {
            "text/plain": [
              "0"
            ]
          },
          "metadata": {},
          "execution_count": 32
        }
      ]
    },
    {
      "cell_type": "markdown",
      "source": [
        "After handling the duplicates, we calculated the sum again to ensure that all duplicates were properly addressed."
      ],
      "metadata": {
        "id": "1elyiVx8-06S"
      }
    }
  ]
}